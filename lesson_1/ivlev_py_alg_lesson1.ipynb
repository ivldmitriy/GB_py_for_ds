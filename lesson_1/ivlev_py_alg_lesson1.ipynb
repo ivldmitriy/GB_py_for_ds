{
  "nbformat": 4,
  "nbformat_minor": 0,
  "metadata": {
    "colab": {
      "name": "ivlev_py_alg_lesson1.ipynb",
      "provenance": []
    },
    "kernelspec": {
      "name": "python3",
      "display_name": "Python 3"
    },
    "language_info": {
      "name": "python"
    }
  },
  "cells": [
    {
      "cell_type": "markdown",
      "metadata": {
        "id": "_M85jTa34IMd"
      },
      "source": [
        "#Theme 1\n",
        "Вычисления с помощью Numpy"
      ]
    },
    {
      "cell_type": "markdown",
      "metadata": {
        "id": "nNnhXcDEpZ-G"
      },
      "source": [
        "##Task 1\n",
        "Импортируйте библиотеку Numpy и дайте ей псевдоним np.\n",
        "Создайте массив Numpy под названием a размером 5x2, то есть состоящий из 5 строк и 2 столбцов. Первый столбец должен содержать числа 1, 2, 3, 3, 1, а второй - числа 6, 8, 11, 10, 7. Будем считать, что каждый столбец - это признак, а строка - наблюдение. Затем найдите среднее значение по каждому признаку, используя метод mean массива Numpy. Результат запишите в массив mean_a, в нем должно быть 2 элемента.\n"
      ]
    },
    {
      "cell_type": "code",
      "metadata": {
        "colab": {
          "base_uri": "https://localhost:8080/"
        },
        "id": "_vvDNol3pEws",
        "outputId": "853c06f9-7dbb-433b-8989-eae453157b5a"
      },
      "source": [
        "import numpy as np\n",
        "a = np.array([[1, 2, 3, 3, 1], [6, 8, 11, 10, 7]]).T\n",
        "print('Матрица наблюдения-признаки')\n",
        "print(a)\n",
        "a_mean = a.mean(axis=0)\n",
        "print(f'Среднее по первому и второму признаку соответственно {a_mean[0]} и {a_mean[1]}')\n"
      ],
      "execution_count": null,
      "outputs": [
        {
          "output_type": "stream",
          "name": "stdout",
          "text": [
            "Матрица наблюдения-признаки\n",
            "[[ 1  6]\n",
            " [ 2  8]\n",
            " [ 3 11]\n",
            " [ 3 10]\n",
            " [ 1  7]]\n",
            "Среднее по первому и второму признаку соответственно 2.0 и 8.4\n"
          ]
        }
      ]
    },
    {
      "cell_type": "markdown",
      "metadata": {
        "id": "u90ij0CwpY9f"
      },
      "source": [
        "##Task 2\n",
        "Вычислите массив a_centered, отняв от значений массива “а” средние значения соответствующих признаков, содержащиеся в массиве mean_a. Вычисление должно производиться в одно действие. Получившийся массив должен иметь размер 5x2."
      ]
    },
    {
      "cell_type": "code",
      "metadata": {
        "colab": {
          "base_uri": "https://localhost:8080/"
        },
        "id": "W42uHKYcyFC7",
        "outputId": "8ed3912e-b1b4-4a16-9103-94fee4c501d1"
      },
      "source": [
        "a_centered = a - a_mean\n",
        "print('Центрированная матрица наблюдения-признаки')\n",
        "print(a_centered)\n"
      ],
      "execution_count": null,
      "outputs": [
        {
          "output_type": "stream",
          "name": "stdout",
          "text": [
            "Центрированная матрица наблюдения-признаки\n",
            "[[-1.  -2.4]\n",
            " [ 0.  -0.4]\n",
            " [ 1.   2.6]\n",
            " [ 1.   1.6]\n",
            " [-1.  -1.4]]\n"
          ]
        }
      ]
    },
    {
      "cell_type": "markdown",
      "metadata": {
        "id": "Ym-u6BCNy5T9"
      },
      "source": [
        "##Task 3\n",
        "Найдите скалярное произведение столбцов массива a_centered. В результате должна получиться величина a_centered_sp. Затем поделите a_centered_sp на N-1, где N - число наблюдений."
      ]
    },
    {
      "cell_type": "code",
      "metadata": {
        "colab": {
          "base_uri": "https://localhost:8080/"
        },
        "id": "JCtDZ7zlyU48",
        "outputId": "9553c2de-0aef-4c7a-ecff-2c8aef60cac2"
      },
      "source": [
        "a_centered_sp = np.dot(a_centered[:,0], a_centered[:,1])\n",
        "cov_home = a_centered_sp / (a_centered.shape[0]-1)\n",
        "print(f'Несмещенная оценка ковариации \"домашним\" методом: {cov_home}')\n"
      ],
      "execution_count": null,
      "outputs": [
        {
          "output_type": "stream",
          "name": "stdout",
          "text": [
            "Несмещенная оценка ковариации \"домашним\" методом: 2.0\n"
          ]
        }
      ]
    },
    {
      "cell_type": "markdown",
      "metadata": {
        "id": "rn1pfS9h1JwE"
      },
      "source": [
        "##Task 4*\n",
        "В этом задании проверьте получившееся число, вычислив ковариацию еще одним способом - с помощью функции np.cov. В качестве аргумента m функция np.cov должна принимать транспонированный массив “a”. В получившейся ковариационной матрице (массив Numpy размером 2x2) искомое значение ковариации будет равно элементу в строке с индексом 0 и столбце с индексом 1."
      ]
    },
    {
      "cell_type": "code",
      "metadata": {
        "colab": {
          "base_uri": "https://localhost:8080/"
        },
        "id": "g88lvVqfz91D",
        "outputId": "887fdb3e-7a24-4a6a-cdc5-662799e5720c"
      },
      "source": [
        "cov = np.cov(a_centered.T)\n",
        "print(f'Несмещенная оценка ковариации встроенной функцией np: {cov[0,1]}')\n"
      ],
      "execution_count": null,
      "outputs": [
        {
          "output_type": "stream",
          "name": "stdout",
          "text": [
            "Несмещенная оценка ковариации встроенной функцией np: 2.0\n"
          ]
        }
      ]
    },
    {
      "cell_type": "markdown",
      "metadata": {
        "id": "iMbSoOya1Qcs"
      },
      "source": [
        "##Task 5**\n",
        "Необходимо реализовать метод сортировки целых (int) элементов. Метод должен быть реализован без использования “готовых” методов ( sorted, np.sort() )."
      ]
    },
    {
      "cell_type": "code",
      "metadata": {
        "colab": {
          "base_uri": "https://localhost:8080/"
        },
        "id": "nV1rSyN1088N",
        "outputId": "d8cfa949-6ce5-4528-c963-846ff78efeca"
      },
      "source": [
        "\n",
        "#сортировка пузырьком - парный обмен\n",
        "def sorter(b):\n",
        "  a = b.copy()\n",
        "  iterate = True\n",
        "  while iterate:\n",
        "    iterate = False\n",
        "    for i in range(len(a) - 1):\n",
        "      if a[i] > a[i + 1]:\n",
        "        a[i], a[i + 1] = a[i + 1], a[i]\n",
        "        iterate = True\n",
        "  return a\n",
        "\n",
        "print(f'Несортированный массив: {a[:, 1]}')\n",
        "print(f'Cортированный массив: {sorter(a[:, 1])}')\n"
      ],
      "execution_count": null,
      "outputs": [
        {
          "output_type": "stream",
          "name": "stdout",
          "text": [
            "Несортированный массив: [ 6  8 11 10  7]\n",
            "Cортированный массив: [ 6  7  8 10 11]\n"
          ]
        }
      ]
    },
    {
      "cell_type": "markdown",
      "metadata": {
        "id": "ESepY57t4QlF"
      },
      "source": [
        "#Theme 2\n",
        "Работа с данными в Pandas"
      ]
    },
    {
      "cell_type": "markdown",
      "metadata": {
        "id": "o-sLuOCm4V_u"
      },
      "source": [
        "##Task 1\n",
        "Импортируйте библиотеку Pandas и дайте ей псевдоним pd. Создайте датафрейм authors со столбцами author_id и author_name, в которых соответственно содержатся данные: [1, 2, 3] и ['Тургенев', 'Чехов', 'Островский'].\n",
        "Затем создайте датафрейм book cо столбцами author_id, book_title и price, в которых соответственно содержатся данные:  \n",
        "[1, 1, 1, 2, 2, 3, 3],\n",
        "['Отцы и дети', 'Рудин', 'Дворянское гнездо', 'Толстый и тонкий', 'Дама с собачкой', 'Гроза', 'Таланты и поклонники'],\n",
        "[450, 300, 350, 500, 450, 370, 290].\n"
      ]
    },
    {
      "cell_type": "code",
      "metadata": {
        "id": "-Rcpw0oK4dk6",
        "colab": {
          "base_uri": "https://localhost:8080/"
        },
        "outputId": "db1bdf53-36bc-41a3-d1ae-6852bd82d51d"
      },
      "source": [
        "import pandas as pd\n",
        "d1 = {\n",
        "    'author_id': [1, 2, 3], \n",
        "    'author_name':['Тургенев', 'Чехов', 'Островский']\n",
        "    }\n",
        "authors = pd.DataFrame(d1)\n",
        "\n",
        "d2 = {\n",
        "    'author_id': [1, 1, 1, 2, 2, 3, 3], \n",
        "    'book_title': ['Отцы и дети', 'Рудин', 'Дворянское гнездо', 'Толстый и тонкий', \n",
        "                   'Дама с собачкой', 'Гроза', 'Таланты и поклонники'], \n",
        "    'price':  [450, 300, 350, 500, 450, 370, 290]\n",
        "    }\n",
        "book = pd.DataFrame(d2)\n",
        "\n",
        "print(authors)\n",
        "print('\\n')\n",
        "print(book)"
      ],
      "execution_count": null,
      "outputs": [
        {
          "output_type": "stream",
          "name": "stdout",
          "text": [
            "   author_id author_name\n",
            "0          1    Тургенев\n",
            "1          2       Чехов\n",
            "2          3  Островский\n",
            "\n",
            "\n",
            "   author_id            book_title  price\n",
            "0          1           Отцы и дети    450\n",
            "1          1                 Рудин    300\n",
            "2          1     Дворянское гнездо    350\n",
            "3          2      Толстый и тонкий    500\n",
            "4          2       Дама с собачкой    450\n",
            "5          3                 Гроза    370\n",
            "6          3  Таланты и поклонники    290\n"
          ]
        }
      ]
    },
    {
      "cell_type": "markdown",
      "metadata": {
        "id": "BrBB01KsgNU5"
      },
      "source": [
        "##Task 2\n",
        "Получите датафрейм authors_price, соединив датафреймы authors и books по полю author_id.\n"
      ]
    },
    {
      "cell_type": "code",
      "metadata": {
        "colab": {
          "base_uri": "https://localhost:8080/"
        },
        "id": "_WcH_9xueA9i",
        "outputId": "8a3e02c0-d2cd-4a3c-a16e-4fa1851700ed"
      },
      "source": [
        "authors_price = pd.merge(authors, book, on='author_id', how='left')\n",
        "print(authors_price)"
      ],
      "execution_count": null,
      "outputs": [
        {
          "output_type": "stream",
          "name": "stdout",
          "text": [
            "   author_id author_name            book_title  price\n",
            "0          1    Тургенев           Отцы и дети    450\n",
            "1          1    Тургенев                 Рудин    300\n",
            "2          1    Тургенев     Дворянское гнездо    350\n",
            "3          2       Чехов      Толстый и тонкий    500\n",
            "4          2       Чехов       Дама с собачкой    450\n",
            "5          3  Островский                 Гроза    370\n",
            "6          3  Островский  Таланты и поклонники    290\n"
          ]
        }
      ]
    },
    {
      "cell_type": "markdown",
      "metadata": {
        "id": "ORMckubsg_tA"
      },
      "source": [
        "##Task 3\n",
        "Создайте датафрейм top5, в котором содержатся строки из authors_price с пятью самыми дорогими книгами."
      ]
    },
    {
      "cell_type": "code",
      "metadata": {
        "colab": {
          "base_uri": "https://localhost:8080/"
        },
        "id": "qQynBKXPg2hT",
        "outputId": "f3bb146f-1098-4cf2-ac61-6996d8a8aaf8"
      },
      "source": [
        "authors_price = authors_price.sort_values(by='price', ascending=False)\n",
        "authors_price = authors_price.reset_index(drop=True)\n",
        "top5 = authors_price.head()\n",
        "print(top5)\n"
      ],
      "execution_count": null,
      "outputs": [
        {
          "output_type": "stream",
          "name": "stdout",
          "text": [
            "   author_id author_name         book_title  price\n",
            "0          2       Чехов   Толстый и тонкий    500\n",
            "1          1    Тургенев        Отцы и дети    450\n",
            "2          2       Чехов    Дама с собачкой    450\n",
            "3          3  Островский              Гроза    370\n",
            "4          1    Тургенев  Дворянское гнездо    350\n"
          ]
        }
      ]
    },
    {
      "cell_type": "markdown",
      "metadata": {
        "id": "2TqBLoCKjjaI"
      },
      "source": [
        "##Task 4\n",
        "Создайте датафрейм authors_stat на основе информации из authors_price. В датафрейме authors_stat должны быть четыре столбца:\n",
        "author_name, min_price, max_price и mean_price,\n",
        "в которых должны содержаться соответственно имя автора, минимальная, максимальная и средняя цена на книги этого автора.\n"
      ]
    },
    {
      "cell_type": "code",
      "metadata": {
        "colab": {
          "base_uri": "https://localhost:8080/"
        },
        "id": "P7yqjVtaho2W",
        "outputId": "078d45bd-2fd4-4fb7-8542-004c4fb4f9bf"
      },
      "source": [
        "author_name = authors_price.groupby(\"author_name\")\n",
        "authors_stat = pd.DataFrame(author_name.agg({'price' : ['min', 'max', 'mean']})).reset_index()\n",
        "authors_stat = authors_stat.rename(columns={'price': '_price'})\n",
        "authors_stat.columns = authors_stat.columns.swaplevel()\n",
        "authors_stat.columns = [''.join(col) for col in authors_stat.columns]\n",
        "print(authors_stat)\n"
      ],
      "execution_count": null,
      "outputs": [
        {
          "output_type": "stream",
          "name": "stdout",
          "text": [
            "  author_name  min_price  max_price  mean_price\n",
            "0  Островский        290        370  330.000000\n",
            "1    Тургенев        300        450  366.666667\n",
            "2       Чехов        450        500  475.000000\n"
          ]
        }
      ]
    },
    {
      "cell_type": "markdown",
      "metadata": {
        "id": "CwuIzEEyz-IH"
      },
      "source": [
        "## Task 5*\n",
        "Создайте новый столбец в датафрейме authors_price под названием cover, в нем будут располагаться данные о том, какая обложка у данной книги - твердая или мягкая. В этот столбец поместите данные из следующего списка:\n",
        "['твердая', 'мягкая', 'мягкая', 'твердая', 'твердая', 'мягкая', 'мягкая'].\n",
        "Просмотрите документацию по функции pd.pivot_table с помощью вопросительного знака.Для каждого автора посчитайте суммарную стоимость книг в твердой и мягкой обложке. Используйте для этого функцию pd.pivot_table. При этом столбцы должны называться \"твердая\" и \"мягкая\", а индексами должны быть фамилии авторов. Пропущенные значения стоимостей заполните нулями, при необходимости загрузите библиотеку Numpy.\n",
        "Назовите полученный датасет book_info и сохраните его в формат pickle под названием \"book_info.pkl\". Затем загрузите из этого файла датафрейм и назовите его book_info2. Удостоверьтесь, что датафреймы book_info и book_info2 идентичны.\n"
      ]
    },
    {
      "cell_type": "code",
      "metadata": {
        "id": "-sBjVL-elCa0",
        "colab": {
          "base_uri": "https://localhost:8080/"
        },
        "outputId": "4d5e05e9-4c73-4df0-8022-708c7e248a98"
      },
      "source": [
        "authors_price['cover'] = ['твердая', 'мягкая', 'мягкая', 'твердая', 'твердая', 'мягкая', 'мягкая']\n",
        "print('Дополнили authors_price:')\n",
        "print(authors_price)\n",
        "\n",
        "book_info = pd.pivot_table(authors_price, values='price' , index='author_name',columns='cover', aggfunc=sum, fill_value=0)\n",
        "print('\\nПолучили book_info:')\n",
        "print(book_info)\n",
        "\n",
        "book_info.to_pickle('book_info.pkl')\n",
        "book_info2 = pd.read_pickle('book_info.pkl')\n",
        "print('\\nПолучили book_info2:')\n",
        "print(book_info2)\n",
        "\n",
        "if book_info.equals(book_info2) and book_info.index.names == book_info2.index.names:\n",
        "  print('\\nОни идентичны!')\n"
      ],
      "execution_count": null,
      "outputs": [
        {
          "output_type": "stream",
          "name": "stdout",
          "text": [
            "Дополнили authors_price:\n",
            "   author_id author_name            book_title  price    cover\n",
            "0          2       Чехов      Толстый и тонкий    500  твердая\n",
            "1          1    Тургенев           Отцы и дети    450   мягкая\n",
            "2          2       Чехов       Дама с собачкой    450   мягкая\n",
            "3          3  Островский                 Гроза    370  твердая\n",
            "4          1    Тургенев     Дворянское гнездо    350  твердая\n",
            "5          1    Тургенев                 Рудин    300   мягкая\n",
            "6          3  Островский  Таланты и поклонники    290   мягкая\n",
            "\n",
            "Получили book_info:\n",
            "cover        мягкая  твердая\n",
            "author_name                 \n",
            "Островский      290      370\n",
            "Тургенев        750      350\n",
            "Чехов           450      500\n",
            "\n",
            "Получили book_info2:\n",
            "cover        мягкая  твердая\n",
            "author_name                 \n",
            "Островский      290      370\n",
            "Тургенев        750      350\n",
            "Чехов           450      500\n",
            "\n",
            "Они идентичны!\n"
          ]
        }
      ]
    },
    {
      "cell_type": "markdown",
      "metadata": {
        "id": "7HwJ9I_u0BS_"
      },
      "source": [
        "## Task 5**\n",
        "Вычисление метрик для мониторинга.\n",
        "\n",
        "1.   суммарная выручка\n",
        "2.   кол-во покупок\n",
        "3.   средний чек\n",
        "4.   среднее кол-во товаров в покупке\n",
        "\n",
        "Дополнительно добавим возможность фильтровать данные по различным параметрам. Это может быть полезно чтобы посмотреть как меняются продажи в двух группах, или в какой-то отдельной категории товаров.\n",
        "На вход функции будет подаваться датафрейм с данными о продажах, словарь с фильтрами и период, за который нужно посчитать метрики.\n",
        "Функция должна вернуть датафрейм, в индексах которого будут все даты из указанного периода отсортированные по возрастанию, а столбцы - метрики ['revenue', 'number_purchases', 'average_check', 'average_number_items']. Формат данных столбцов - float, формат данных индекса - datetime64[ns].\n",
        "Если в какие-то дни не было продаж, то нужно заполнить пропуск нулём."
      ]
    },
    {
      "cell_type": "code",
      "metadata": {
        "id": "rk5zaiOW0TBi",
        "colab": {
          "base_uri": "https://localhost:8080/"
        },
        "outputId": "0bd974ff-2f7b-4ff0-b0df-552e3ff41c45"
      },
      "source": [
        "import pandas as pd\n",
        "\n",
        "def calculate_sales_metrics(df, cost_name, date_name, sale_id_name, number_items_name, period, filters=None):\n",
        "  print('Исходные данные:')\n",
        "  print(df)\n",
        "  print('\\n')\n",
        "  begin = pd.to_datetime(period['begin'])\n",
        "  end = pd.to_datetime(period['end'])\n",
        "\n",
        "  # сортировка по дате и выделение временного периода\n",
        "  df[date_name] = pd.to_datetime(df[date_name])\n",
        "  df = df.sort_values(by=date_name)\n",
        "  mask = (df[date_name] >= begin) & (df[date_name] < end)\n",
        "  data = df.loc[mask]\n",
        "  print('Получаем данные за период:')\n",
        "  print(data)\n",
        "  print('\\n')\n",
        "\n",
        "  # фильтрация\n",
        "  if filters:\n",
        "    for key, bandpass in filters.items():\n",
        "      #data = data.loc[~data[key].isin(bandpass)]\n",
        "      data = data.query(f\"{key} in {bandpass}\")\n",
        "\n",
        "  print('Фильтруем:')\n",
        "  print(data)\n",
        "  print('\\n')\n",
        "\n",
        "  # расчет метрик\n",
        "  #суммарная выручка, кол-во покупок, средний чек, среднее кол-во товаров в покупке\n",
        "  groupby = data.groupby(date_name)\n",
        "  stat = pd.DataFrame(groupby.agg({cost_name : ['sum', 'mean'], number_items_name: ['count', 'mean']}))\n",
        "  stat.columns = ['revenue', 'average_check', 'number_purchases', 'average_number_items']\n",
        "  stat.index.name = None\n",
        "  stat = stat[['revenue', 'number_purchases', 'average_check', 'average_number_items']]\n",
        "  print('Анализируем метрики:')\n",
        "  print(stat)\n",
        "\n",
        "  return stat\n",
        "\n",
        "sales = pd.DataFrame(\n",
        "           [[820, '2021-04-03', 1, 5, 213],\n",
        "            [740, '2019-03-04', 2, 6, 1],\n",
        "            [250, '2020-01-07', 3, 2, 123],\n",
        "            [360, '2020-01-07', 4, 3, 123],\n",
        "            [220, '2020-01-07', 5, 1, 123],\n",
        "            [350, '2020-01-07', 6, 3, 213],\n",
        "            [347, '2018-06-23', 7, 2, 214],\n",
        "            ],\n",
        "           columns=['cost', 'date', 'sale_id', 'number_items', 'shop_id']\n",
        "       )\n",
        "\n",
        "period = {'begin': '2019-01-01', 'end': '2021-01-08'}\n",
        "filter = {'shop_id': [1, 123, 943]}\n",
        "\n",
        "res = calculate_sales_metrics(sales, 'cost', 'date', 'sale_id', 'number_items', period, filters=filter)\n",
        "res.to_pickle('metrics.pkl')\n"
      ],
      "execution_count": null,
      "outputs": [
        {
          "output_type": "stream",
          "name": "stdout",
          "text": [
            "Исходные данные:\n",
            "   cost        date  sale_id  number_items  shop_id\n",
            "0   820  2021-04-03        1             5      213\n",
            "1   740  2019-03-04        2             6        1\n",
            "2   250  2020-01-07        3             2      123\n",
            "3   360  2020-01-07        4             3      123\n",
            "4   220  2020-01-07        5             1      123\n",
            "5   350  2020-01-07        6             3      213\n",
            "6   347  2018-06-23        7             2      214\n",
            "\n",
            "\n",
            "Получаем данные за период:\n",
            "   cost       date  sale_id  number_items  shop_id\n",
            "1   740 2019-03-04        2             6        1\n",
            "2   250 2020-01-07        3             2      123\n",
            "3   360 2020-01-07        4             3      123\n",
            "4   220 2020-01-07        5             1      123\n",
            "5   350 2020-01-07        6             3      213\n",
            "\n",
            "\n",
            "Фильтруем:\n",
            "   cost       date  sale_id  number_items  shop_id\n",
            "1   740 2019-03-04        2             6        1\n",
            "2   250 2020-01-07        3             2      123\n",
            "3   360 2020-01-07        4             3      123\n",
            "4   220 2020-01-07        5             1      123\n",
            "\n",
            "\n",
            "Анализируем метрики:\n",
            "            revenue  number_purchases  average_check  average_number_items\n",
            "2019-03-04      740                 1     740.000000                     6\n",
            "2020-01-07      830                 3     276.666667                     2\n"
          ]
        }
      ]
    },
    {
      "cell_type": "code",
      "metadata": {
        "id": "lKZrYVWftwKT"
      },
      "source": [
        ""
      ],
      "execution_count": null,
      "outputs": []
    }
  ]
}